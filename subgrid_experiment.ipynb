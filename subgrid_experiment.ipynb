{
 "cells": [
  {
   "cell_type": "code",
   "execution_count": 1,
   "metadata": {},
   "outputs": [],
   "source": [
    "import numpy as np"
   ]
  },
  {
   "cell_type": "code",
   "execution_count": 2,
   "metadata": {},
   "outputs": [],
   "source": [
    "lon_min = 1; lon_max = 15\n",
    "sublon_min = 3; sublon_max = 8\n",
    "lat_min = 3; lat_max = 20\n",
    "sublat_min = 10; sublat_max = 16\n",
    "grid_size = 1; subgrid_size = 0.5"
   ]
  },
  {
   "cell_type": "code",
   "execution_count": 3,
   "metadata": {},
   "outputs": [],
   "source": [
    "lon1 = np.arange(lon_min, sublon_min, grid_size)\n",
    "lon2 = np.arange(sublon_min, sublon_max, subgrid_size)\n",
    "lon3 = np.arange(sublon_max, lon_max, grid_size)\n",
    "new_lon = np.concatenate((lon1, lon2, lon3))\n",
    "\n",
    "lat1 = np.arange(lat_max, sublat_max, -grid_size)\n",
    "lat2 = np.arange(sublat_max, sublat_min, -subgrid_size)\n",
    "lat3 = np.arange(sublat_min, lat_min, -grid_size)\n",
    "new_lat = np.concatenate((lat1, lat2, lat3))\n",
    "\n",
    "new_lon, new_lat = np.meshgrid(new_lon, new_lat)"
   ]
  },
  {
   "cell_type": "code",
   "execution_count": 81,
   "metadata": {},
   "outputs": [],
   "source": [
    "outer_lon = np.arange(lon_min, lon_max+grid_size, grid_size)\n",
    "outer_lat = np.arange(lat_max, lat_min-grid_size, -grid_size)\n",
    "\n",
    "inner_lon = np.arange(sublon_min, sublon_max+subgrid_size, subgrid_size)\n",
    "inner_lat = np.arange(sublat_max, sublat_min-subgrid_size, -subgrid_size)\n",
    "\n",
    "assert (sublon_min in outer_lon) & (sublon_max in outer_lon) & (sublat_min in outer_lat) & (sublat_max in outer_lat)\n",
    "\n",
    "outer_lon_mesh, outer_lat_mesh = np.meshgrid(outer_lon, outer_lat)\n",
    "inner_lon_mesh, inner_lat_mesh = np.meshgrid(inner_lon, inner_lat)\n",
    "\n",
    "mask = ~((outer_lon_mesh < sublon_max) & (outer_lon_mesh > sublon_min) & (outer_lat_mesh < sublat_max) & (outer_lat_mesh > sublat_min))\n",
    "\n",
    "xv = np.vstack((outer_lon_mesh[mask].reshape((-1,1)), inner_lon_mesh.reshape((-1,1))))\n",
    "yv = np.vstack((outer_lat_mesh[mask].reshape((-1,1)), inner_lat_mesh.reshape((-1,1))))\n"
   ]
  },
  {
   "cell_type": "code",
   "execution_count": 82,
   "metadata": {},
   "outputs": [
    {
     "data": {
      "image/png": "[encoded data removed]",
      "text/plain": [
       "<Figure size 432x288 with 1 Axes>"
      ]
     },
     "metadata": {
      "needs_background": "light"
     },
     "output_type": "display_data"
    }
   ],
   "source": [
    "plt.plot(xv, yv, \".k\")\n",
    "plt.show()"
   ]
  },
  {
   "cell_type": "code",
   "execution_count": 77,
   "metadata": {},
   "outputs": [],
   "source": [
    "mask = ~((outer_lon_mesh < sublon_max) & (outer_lon_mesh > sublon_min) & (outer_lat_mesh < sublat_max) & (outer_lat_mesh > sublat_min))"
   ]
  },
  {
   "cell_type": "code",
   "execution_count": 84,
   "metadata": {},
   "outputs": [
    {
     "data": {
      "text/plain": [
       "393"
      ]
     },
     "execution_count": 84,
     "metadata": {},
     "output_type": "execute_result"
    }
   ],
   "source": [
    "len(xv)"
   ]
  },
  {
   "cell_type": "code",
   "execution_count": 85,
   "metadata": {},
   "outputs": [
    {
     "data": {
      "text/plain": [
       "(250,)"
      ]
     },
     "execution_count": 85,
     "metadata": {},
     "output_type": "execute_result"
    }
   ],
   "source": [
    "outer_lon_mesh[mask].shape"
   ]
  },
  {
   "cell_type": "code",
   "execution_count": 87,
   "metadata": {},
   "outputs": [
    {
     "data": {
      "text/plain": [
       "(143, 1)"
      ]
     },
     "execution_count": 87,
     "metadata": {},
     "output_type": "execute_result"
    }
   ],
   "source": [
    "inner_lon_mesh.reshape((-1,1)).shape"
   ]
  },
  {
   "cell_type": "code",
   "execution_count": null,
   "metadata": {},
   "outputs": [],
   "source": [
    "mask = ~((X < 0.4) & (X > -0.4) & (Y < 0.4) & (Y > -0.4))\n",
    "np.c_[X[mask], Y[mask]]"
   ]
  },
  {
   "cell_type": "code",
   "execution_count": null,
   "metadata": {},
   "outputs": [],
   "source": [
    "for xx in outer_lon_mesh:\n",
    "    for yy in outer"
   ]
  },
  {
   "cell_type": "code",
   "execution_count": 62,
   "metadata": {},
   "outputs": [
    {
     "data": {
      "text/plain": [
       "array([16. , 15.5, 15. , 14.5, 14. , 13.5, 13. , 12.5, 12. , 11.5, 11. ,\n",
       "       10.5])"
      ]
     },
     "execution_count": 62,
     "metadata": {},
     "output_type": "execute_result"
    }
   ],
   "source": [
    "inner_lat"
   ]
  },
  {
   "cell_type": "code",
   "execution_count": 22,
   "metadata": {},
   "outputs": [],
   "source": [
    "#new2_lon, new2_lat = np.meshgrid(np.union1d(outer_lon, inner_lon), np.union1d(outer_lat, inner_lat))"
   ]
  },
  {
   "cell_type": "code",
   "execution_count": 26,
   "metadata": {},
   "outputs": [
    {
     "data": {
      "text/plain": [
       "(23, 19)"
      ]
     },
     "execution_count": 26,
     "metadata": {},
     "output_type": "execute_result"
    }
   ],
   "source": []
  },
  {
   "cell_type": "code",
   "execution_count": 72,
   "metadata": {},
   "outputs": [],
   "source": [
    "outer_lon_mesh, outer_lat_mesh = np.meshgrid(outer_lon, outer_lat)\n",
    "inner_lon_mesh, inner_lat_mesh = np.meshgrid(inner_lon, inner_lat)"
   ]
  },
  {
   "cell_type": "code",
   "execution_count": 42,
   "metadata": {},
   "outputs": [
    {
     "data": {
      "text/plain": [
       "(17, 14)"
      ]
     },
     "execution_count": 42,
     "metadata": {},
     "output_type": "execute_result"
    }
   ],
   "source": [
    "outer_lon_mesh.shape"
   ]
  },
  {
   "cell_type": "code",
   "execution_count": 35,
   "metadata": {},
   "outputs": [
    {
     "data": {
      "text/plain": [
       "(12, 10)"
      ]
     },
     "execution_count": 35,
     "metadata": {},
     "output_type": "execute_result"
    }
   ],
   "source": [
    "inner_lon_mesh.shape"
   ]
  },
  {
   "cell_type": "code",
   "execution_count": 73,
   "metadata": {},
   "outputs": [
    {
     "data": {
      "text/plain": [
       "array([[16. , 16. , 16. , 16. , 16. , 16. , 16. , 16. , 16. , 16. , 16. ],\n",
       "       [15.5, 15.5, 15.5, 15.5, 15.5, 15.5, 15.5, 15.5, 15.5, 15.5, 15.5],\n",
       "       [15. , 15. , 15. , 15. , 15. , 15. , 15. , 15. , 15. , 15. , 15. ],\n",
       "       [14.5, 14.5, 14.5, 14.5, 14.5, 14.5, 14.5, 14.5, 14.5, 14.5, 14.5],\n",
       "       [14. , 14. , 14. , 14. , 14. , 14. , 14. , 14. , 14. , 14. , 14. ],\n",
       "       [13.5, 13.5, 13.5, 13.5, 13.5, 13.5, 13.5, 13.5, 13.5, 13.5, 13.5],\n",
       "       [13. , 13. , 13. , 13. , 13. , 13. , 13. , 13. , 13. , 13. , 13. ],\n",
       "       [12.5, 12.5, 12.5, 12.5, 12.5, 12.5, 12.5, 12.5, 12.5, 12.5, 12.5],\n",
       "       [12. , 12. , 12. , 12. , 12. , 12. , 12. , 12. , 12. , 12. , 12. ],\n",
       "       [11.5, 11.5, 11.5, 11.5, 11.5, 11.5, 11.5, 11.5, 11.5, 11.5, 11.5],\n",
       "       [11. , 11. , 11. , 11. , 11. , 11. , 11. , 11. , 11. , 11. , 11. ],\n",
       "       [10.5, 10.5, 10.5, 10.5, 10.5, 10.5, 10.5, 10.5, 10.5, 10.5, 10.5],\n",
       "       [10. , 10. , 10. , 10. , 10. , 10. , 10. , 10. , 10. , 10. , 10. ]])"
      ]
     },
     "execution_count": 73,
     "metadata": {},
     "output_type": "execute_result"
    }
   ],
   "source": [
    "inner_lat_mesh"
   ]
  },
  {
   "cell_type": "code",
   "execution_count": null,
   "metadata": {},
   "outputs": [],
   "source": []
  },
  {
   "cell_type": "code",
   "execution_count": 74,
   "metadata": {},
   "outputs": [],
   "source": [
    "xv = np.vstack((outer_lon_mesh.reshape((-1,1)), inner_lon_mesh.reshape((-1,1))))\n",
    "yv = np.vstack((outer_lat_mesh.reshape((-1,1)), inner_lat_mesh.reshape((-1,1))))"
   ]
  },
  {
   "cell_type": "code",
   "execution_count": null,
   "metadata": {},
   "outputs": [],
   "source": [
    "# in outer, not in inner : select outer  \n",
    "# in inner : select inner \n"
   ]
  },
  {
   "cell_type": "code",
   "execution_count": 45,
   "metadata": {},
   "outputs": [
    {
     "ename": "SyntaxError",
     "evalue": "invalid syntax (Temp/ipykernel_16200/3320225679.py, line 1)",
     "output_type": "error",
     "traceback": [
      "\u001b[1;36m  File \u001b[1;32m\"C:\\Users\\user\\AppData\\Local\\Temp/ipykernel_16200/3320225679.py\"\u001b[1;36m, line \u001b[1;32m1\u001b[0m\n\u001b[1;33m    new2_lon = np.concatenate(outer_lon_mesh.reshape(,1), inner_lon_mesh.reshape(,1))\u001b[0m\n\u001b[1;37m                                                     ^\u001b[0m\n\u001b[1;31mSyntaxError\u001b[0m\u001b[1;31m:\u001b[0m invalid syntax\n"
     ]
    }
   ],
   "source": [
    "new2_lon = np.concatenate(outer_lon_mesh.reshape(,1), inner_lon_mesh.reshape(,1))\n",
    "new2_lat = np.concatenate(outer_lat_mesh.reshape(-1,1), inner_lat_mesh.reshape(-1,1))"
   ]
  },
  {
   "cell_type": "code",
   "execution_count": 40,
   "metadata": {},
   "outputs": [
    {
     "data": {
      "text/plain": [
       "array([ 1. ,  2. ,  3. ,  3.5,  4. ,  4.5,  5. ,  5.5,  6. ,  6.5,  7. ,\n",
       "        7.5,  8. ,  9. , 10. , 11. , 12. , 13. , 14. ])"
      ]
     },
     "execution_count": 40,
     "metadata": {},
     "output_type": "execute_result"
    }
   ],
   "source": [
    "new2_lon"
   ]
  },
  {
   "cell_type": "code",
   "execution_count": 28,
   "metadata": {},
   "outputs": [
    {
     "data": {
      "text/plain": [
       "(19,)"
      ]
     },
     "execution_count": 28,
     "metadata": {},
     "output_type": "execute_result"
    }
   ],
   "source": [
    "new2_lon.shape"
   ]
  },
  {
   "cell_type": "code",
   "execution_count": 29,
   "metadata": {},
   "outputs": [
    {
     "data": {
      "text/plain": [
       "array([ 1. ,  2. ,  3. ,  3.5,  4. ,  4.5,  5. ,  5.5,  6. ,  6.5,  7. ,\n",
       "        7.5,  8. ,  9. , 10. , 11. , 12. , 13. , 14. ])"
      ]
     },
     "execution_count": 29,
     "metadata": {},
     "output_type": "execute_result"
    }
   ],
   "source": [
    "new2_lon"
   ]
  },
  {
   "cell_type": "code",
   "execution_count": 30,
   "metadata": {},
   "outputs": [
    {
     "data": {
      "text/plain": [
       "array([ 4. ,  5. ,  6. ,  7. ,  8. ,  9. , 10. , 10.5, 11. , 11.5, 12. ,\n",
       "       12.5, 13. , 13.5, 14. , 14.5, 15. , 15.5, 16. , 17. , 18. , 19. ,\n",
       "       20. ])"
      ]
     },
     "execution_count": 30,
     "metadata": {},
     "output_type": "execute_result"
    }
   ],
   "source": [
    "new2_lat"
   ]
  },
  {
   "cell_type": "code",
   "execution_count": 16,
   "metadata": {},
   "outputs": [],
   "source": [
    "assert (sublon_min in outer_lon) & (sublon_max in outer_lon) & (sublat_min in outer_lat) & (sublat_max in outer_lat)"
   ]
  },
  {
   "cell_type": "code",
   "execution_count": 17,
   "metadata": {},
   "outputs": [
    {
     "name": "stdout",
     "output_type": "stream",
     "text": [
      "Verified\n"
     ]
    }
   ],
   "source": [
    "if (sublon_min in outer_lon) & (sublon_max in outer_lon) & (sublat_min in outer_lat) & (sublat_max in outer_lat) :\n",
    "    print(\"Verified\")"
   ]
  },
  {
   "cell_type": "code",
   "execution_count": null,
   "metadata": {},
   "outputs": [],
   "source": []
  },
  {
   "cell_type": "code",
   "execution_count": 7,
   "metadata": {},
   "outputs": [],
   "source": [
    "pc1 = np.meshgrid(lon1, lat1); pc2 = np.meshgrid(lon2, lat1); pc3 = np.meshgrid(lon3, lat1)\n",
    "pc4 = np.meshgrid(lon1, lat2); pc5 = np.meshgrid(lon2, lat2); pc6 = np.meshgrid(lon3, lat2)\n",
    "pc7 = np.meshgrid(lon1, lat3); pc8 = np.meshgrid(lon2, lat3); pc9 = np.meshgrid(lon3, lat3)\n",
    "lon_row1 = np.hstack((pc1[0], pc2[0], pc3[0]))\n",
    "lon_row2 = np.hstack((pc4[0], pc5[0], pc6[0]))\n",
    "lon_row3 = np.hstack((pc7[0], pc8[0], pc9[0]))\n",
    "lat_row1 = np.hstack((pc1[1], pc2[1], pc3[1]))\n",
    "lat_row2 = np.hstack((pc4[1], pc5[1], pc6[1]))\n",
    "lat_row3 = np.hstack((pc7[1], pc8[1], pc9[1]))\n",
    "new_lon = np.vstack((lon_row1, lon_row2, lon_row3))\n",
    "new_lat = np.vstack((lat_row1, lat_row2, lat_row3))"
   ]
  },
  {
   "cell_type": "code",
   "execution_count": null,
   "metadata": {},
   "outputs": [],
   "source": []
  },
  {
   "cell_type": "code",
   "execution_count": 60,
   "metadata": {
    "scrolled": false
   },
   "outputs": [
    {
     "name": "stdout",
     "output_type": "stream",
     "text": [
      "(1.0,20.0) (2.0,20.0) (3.0,20.0) (3.5,20.0) (4.0,20.0) (4.5,20.0) (5.0,20.0) (5.5,20.0) (6.0,20.0) (6.5,20.0) (7.0,20.0) (7.5,20.0) (8.0,20.0) (9.0,20.0) (10.0,20.0) (11.0,20.0) (12.0,20.0) (13.0,20.0) (14.0,20.0) \n",
      "(1.0,19.0) (2.0,19.0) (3.0,19.0) (3.5,19.0) (4.0,19.0) (4.5,19.0) (5.0,19.0) (5.5,19.0) (6.0,19.0) (6.5,19.0) (7.0,19.0) (7.5,19.0) (8.0,19.0) (9.0,19.0) (10.0,19.0) (11.0,19.0) (12.0,19.0) (13.0,19.0) (14.0,19.0) \n",
      "(1.0,18.0) (2.0,18.0) (3.0,18.0) (3.5,18.0) (4.0,18.0) (4.5,18.0) (5.0,18.0) (5.5,18.0) (6.0,18.0) (6.5,18.0) (7.0,18.0) (7.5,18.0) (8.0,18.0) (9.0,18.0) (10.0,18.0) (11.0,18.0) (12.0,18.0) (13.0,18.0) (14.0,18.0) \n",
      "(1.0,17.0) (2.0,17.0) (3.0,17.0) (3.5,17.0) (4.0,17.0) (4.5,17.0) (5.0,17.0) (5.5,17.0) (6.0,17.0) (6.5,17.0) (7.0,17.0) (7.5,17.0) (8.0,17.0) (9.0,17.0) (10.0,17.0) (11.0,17.0) (12.0,17.0) (13.0,17.0) (14.0,17.0) \n",
      "(1.0,16.0) (2.0,16.0) (3.0,16.0) (3.5,16.0) (4.0,16.0) (4.5,16.0) (5.0,16.0) (5.5,16.0) (6.0,16.0) (6.5,16.0) (7.0,16.0) (7.5,16.0) (8.0,16.0) (9.0,16.0) (10.0,16.0) (11.0,16.0) (12.0,16.0) (13.0,16.0) (14.0,16.0) \n",
      "(1.0,15.5) (2.0,15.5) (3.0,15.5) (3.5,15.5) (4.0,15.5) (4.5,15.5) (5.0,15.5) (5.5,15.5) (6.0,15.5) (6.5,15.5) (7.0,15.5) (7.5,15.5) (8.0,15.5) (9.0,15.5) (10.0,15.5) (11.0,15.5) (12.0,15.5) (13.0,15.5) (14.0,15.5) \n",
      "(1.0,15.0) (2.0,15.0) (3.0,15.0) (3.5,15.0) (4.0,15.0) (4.5,15.0) (5.0,15.0) (5.5,15.0) (6.0,15.0) (6.5,15.0) (7.0,15.0) (7.5,15.0) (8.0,15.0) (9.0,15.0) (10.0,15.0) (11.0,15.0) (12.0,15.0) (13.0,15.0) (14.0,15.0) \n",
      "(1.0,14.5) (2.0,14.5) (3.0,14.5) (3.5,14.5) (4.0,14.5) (4.5,14.5) (5.0,14.5) (5.5,14.5) (6.0,14.5) (6.5,14.5) (7.0,14.5) (7.5,14.5) (8.0,14.5) (9.0,14.5) (10.0,14.5) (11.0,14.5) (12.0,14.5) (13.0,14.5) (14.0,14.5) \n",
      "(1.0,14.0) (2.0,14.0) (3.0,14.0) (3.5,14.0) (4.0,14.0) (4.5,14.0) (5.0,14.0) (5.5,14.0) (6.0,14.0) (6.5,14.0) (7.0,14.0) (7.5,14.0) (8.0,14.0) (9.0,14.0) (10.0,14.0) (11.0,14.0) (12.0,14.0) (13.0,14.0) (14.0,14.0) \n",
      "(1.0,13.5) (2.0,13.5) (3.0,13.5) (3.5,13.5) (4.0,13.5) (4.5,13.5) (5.0,13.5) (5.5,13.5) (6.0,13.5) (6.5,13.5) (7.0,13.5) (7.5,13.5) (8.0,13.5) (9.0,13.5) (10.0,13.5) (11.0,13.5) (12.0,13.5) (13.0,13.5) (14.0,13.5) \n",
      "(1.0,13.0) (2.0,13.0) (3.0,13.0) (3.5,13.0) (4.0,13.0) (4.5,13.0) (5.0,13.0) (5.5,13.0) (6.0,13.0) (6.5,13.0) (7.0,13.0) (7.5,13.0) (8.0,13.0) (9.0,13.0) (10.0,13.0) (11.0,13.0) (12.0,13.0) (13.0,13.0) (14.0,13.0) \n",
      "(1.0,12.5) (2.0,12.5) (3.0,12.5) (3.5,12.5) (4.0,12.5) (4.5,12.5) (5.0,12.5) (5.5,12.5) (6.0,12.5) (6.5,12.5) (7.0,12.5) (7.5,12.5) (8.0,12.5) (9.0,12.5) (10.0,12.5) (11.0,12.5) (12.0,12.5) (13.0,12.5) (14.0,12.5) \n",
      "(1.0,12.0) (2.0,12.0) (3.0,12.0) (3.5,12.0) (4.0,12.0) (4.5,12.0) (5.0,12.0) (5.5,12.0) (6.0,12.0) (6.5,12.0) (7.0,12.0) (7.5,12.0) (8.0,12.0) (9.0,12.0) (10.0,12.0) (11.0,12.0) (12.0,12.0) (13.0,12.0) (14.0,12.0) \n",
      "(1.0,11.5) (2.0,11.5) (3.0,11.5) (3.5,11.5) (4.0,11.5) (4.5,11.5) (5.0,11.5) (5.5,11.5) (6.0,11.5) (6.5,11.5) (7.0,11.5) (7.5,11.5) (8.0,11.5) (9.0,11.5) (10.0,11.5) (11.0,11.5) (12.0,11.5) (13.0,11.5) (14.0,11.5) \n",
      "(1.0,11.0) (2.0,11.0) (3.0,11.0) (3.5,11.0) (4.0,11.0) (4.5,11.0) (5.0,11.0) (5.5,11.0) (6.0,11.0) (6.5,11.0) (7.0,11.0) (7.5,11.0) (8.0,11.0) (9.0,11.0) (10.0,11.0) (11.0,11.0) (12.0,11.0) (13.0,11.0) (14.0,11.0) \n",
      "(1.0,10.5) (2.0,10.5) (3.0,10.5) (3.5,10.5) (4.0,10.5) (4.5,10.5) (5.0,10.5) (5.5,10.5) (6.0,10.5) (6.5,10.5) (7.0,10.5) (7.5,10.5) (8.0,10.5) (9.0,10.5) (10.0,10.5) (11.0,10.5) (12.0,10.5) (13.0,10.5) (14.0,10.5) \n",
      "(1.0,10.0) (2.0,10.0) (3.0,10.0) (3.5,10.0) (4.0,10.0) (4.5,10.0) (5.0,10.0) (5.5,10.0) (6.0,10.0) (6.5,10.0) (7.0,10.0) (7.5,10.0) (8.0,10.0) (9.0,10.0) (10.0,10.0) (11.0,10.0) (12.0,10.0) (13.0,10.0) (14.0,10.0) \n",
      "(1.0,9.0) (2.0,9.0) (3.0,9.0) (3.5,9.0) (4.0,9.0) (4.5,9.0) (5.0,9.0) (5.5,9.0) (6.0,9.0) (6.5,9.0) (7.0,9.0) (7.5,9.0) (8.0,9.0) (9.0,9.0) (10.0,9.0) (11.0,9.0) (12.0,9.0) (13.0,9.0) (14.0,9.0) \n",
      "(1.0,8.0) (2.0,8.0) (3.0,8.0) (3.5,8.0) (4.0,8.0) (4.5,8.0) (5.0,8.0) (5.5,8.0) (6.0,8.0) (6.5,8.0) (7.0,8.0) (7.5,8.0) (8.0,8.0) (9.0,8.0) (10.0,8.0) (11.0,8.0) (12.0,8.0) (13.0,8.0) (14.0,8.0) \n",
      "(1.0,7.0) (2.0,7.0) (3.0,7.0) (3.5,7.0) (4.0,7.0) (4.5,7.0) (5.0,7.0) (5.5,7.0) (6.0,7.0) (6.5,7.0) (7.0,7.0) (7.5,7.0) (8.0,7.0) (9.0,7.0) (10.0,7.0) (11.0,7.0) (12.0,7.0) (13.0,7.0) (14.0,7.0) \n",
      "(1.0,6.0) (2.0,6.0) (3.0,6.0) (3.5,6.0) (4.0,6.0) (4.5,6.0) (5.0,6.0) (5.5,6.0) (6.0,6.0) (6.5,6.0) (7.0,6.0) (7.5,6.0) (8.0,6.0) (9.0,6.0) (10.0,6.0) (11.0,6.0) (12.0,6.0) (13.0,6.0) (14.0,6.0) \n",
      "(1.0,5.0) (2.0,5.0) (3.0,5.0) (3.5,5.0) (4.0,5.0) (4.5,5.0) (5.0,5.0) (5.5,5.0) (6.0,5.0) (6.5,5.0) (7.0,5.0) (7.5,5.0) (8.0,5.0) (9.0,5.0) (10.0,5.0) (11.0,5.0) (12.0,5.0) (13.0,5.0) (14.0,5.0) \n",
      "(1.0,4.0) (2.0,4.0) (3.0,4.0) (3.5,4.0) (4.0,4.0) (4.5,4.0) (5.0,4.0) (5.5,4.0) (6.0,4.0) (6.5,4.0) (7.0,4.0) (7.5,4.0) (8.0,4.0) (9.0,4.0) (10.0,4.0) (11.0,4.0) (12.0,4.0) (13.0,4.0) (14.0,4.0) \n"
     ]
    }
   ],
   "source": [
    "def visualize(lon, lat):\n",
    "    ncol = lon.shape[1]; nrow = lon.shape[0]\n",
    "    result = np.chararray((nrow, ncol))\n",
    "    for i in range(nrow):\n",
    "        for j in range(ncol):\n",
    "            vis =  \"(\"+str(lon[i,j])+\",\"+str(lat[i,j])+\")\"\n",
    "            print(vis, end=\" \")\n",
    "        print()\n",
    "\n",
    "visualize(new_lon, new_lat)\n"
   ]
  },
  {
   "cell_type": "code",
   "execution_count": 5,
   "metadata": {},
   "outputs": [],
   "source": [
    "import matplotlib.pyplot as plt "
   ]
  },
  {
   "cell_type": "code",
   "execution_count": 9,
   "metadata": {},
   "outputs": [
    {
     "data": {
      "image/png": "[encoded data removed]",
      "text/plain": [
       "<Figure size 432x288 with 1 Axes>"
      ]
     },
     "metadata": {
      "needs_background": "light"
     },
     "output_type": "display_data"
    }
   ],
   "source": [
    "plt.plot(new_lon, new_lat, \".k\")\n",
    "plt.show()"
   ]
  },
  {
   "cell_type": "code",
   "execution_count": 80,
   "metadata": {},
   "outputs": [
    {
     "data": {
      "image/png": "[encoded data removed]",
      "text/plain": [
       "<Figure size 432x288 with 1 Axes>"
      ]
     },
     "metadata": {
      "needs_background": "light"
     },
     "output_type": "display_data"
    }
   ],
   "source": [
    "plt.plot(xv, yv, \".k\")\n",
    "plt.show()"
   ]
  },
  {
   "cell_type": "code",
   "execution_count": 37,
   "metadata": {},
   "outputs": [
    {
     "data": {
      "text/plain": [
       "(2, 4)"
      ]
     },
     "execution_count": 37,
     "metadata": {},
     "output_type": "execute_result"
    }
   ],
   "source": [
    "ncol = lon.shape[1]; nrow = lon.shape[0]\n",
    "result = np.chararray((ncol, nrow))\n",
    "result.shape"
   ]
  },
  {
   "cell_type": "code",
   "execution_count": 38,
   "metadata": {},
   "outputs": [
    {
     "data": {
      "text/plain": [
       "(4, 2)"
      ]
     },
     "execution_count": 38,
     "metadata": {},
     "output_type": "execute_result"
    }
   ],
   "source": [
    "lon.shape"
   ]
  },
  {
   "cell_type": "code",
   "execution_count": null,
   "metadata": {},
   "outputs": [],
   "source": []
  }
 ],
 "metadata": {
  "kernelspec": {
   "display_name": "Python 3 (ipykernel)",
   "language": "python",
   "name": "python3"
  },
  "language_info": {
   "codemirror_mode": {
    "name": "ipython",
    "version": 3
   },
   "file_extension": ".py",
   "mimetype": "text/x-python",
   "name": "python",
   "nbconvert_exporter": "python",
   "pygments_lexer": "ipython3",
   "version": "3.9.7"
  },
  "vscode": {
   "interpreter": {
    "hash": "949777d72b0d2535278d3dc13498b2535136f6dfe0678499012e853ee9abcab1"
   }
  }
 },
 "nbformat": 4,
 "nbformat_minor": 2
}
